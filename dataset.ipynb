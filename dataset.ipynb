{
 "cells": [
  {
   "cell_type": "code",
   "metadata": {
    "ExecuteTime": {
     "end_time": "2024-12-09T04:44:52.389519Z",
     "start_time": "2024-12-09T04:44:52.384628Z"
    }
   },
   "source": [
    "import numpy as np\n",
    "import pandas as pd\n",
    "import zipfile\n",
    "import pyarrow\n",
    "import os\n",
    "from statsmodels.tsa.arima.model import ARIMA\n",
    "from sklearn.model_selection import train_test_split"
   ],
   "outputs": [],
   "execution_count": 13
  },
  {
   "cell_type": "code",
   "metadata": {
    "ExecuteTime": {
     "end_time": "2024-12-09T04:42:50.862017Z",
     "start_time": "2024-12-09T04:42:49.875286Z"
    }
   },
   "source": [
    "!python3 -m pip install \"numpy<2\"\n",
    "from pmdarima import auto_arima"
   ],
   "outputs": [
    {
     "name": "stdout",
     "output_type": "stream",
     "text": [
      "Requirement already satisfied: numpy<2 in /Library/Frameworks/Python.framework/Versions/3.12/lib/python3.12/site-packages (1.26.4)\r\n",
      "\r\n",
      "\u001B[1m[\u001B[0m\u001B[34;49mnotice\u001B[0m\u001B[1;39;49m]\u001B[0m\u001B[39;49m A new release of pip is available: \u001B[0m\u001B[31;49m24.0\u001B[0m\u001B[39;49m -> \u001B[0m\u001B[32;49m24.3.1\u001B[0m\r\n",
      "\u001B[1m[\u001B[0m\u001B[34;49mnotice\u001B[0m\u001B[1;39;49m]\u001B[0m\u001B[39;49m To update, run: \u001B[0m\u001B[32;49mpip3 install --upgrade pip\u001B[0m\r\n"
     ]
    }
   ],
   "execution_count": 9
  },
  {
   "cell_type": "markdown",
   "metadata": {},
   "source": [
    "Import dataset and get information about the data"
   ]
  },
  {
   "cell_type": "code",
   "metadata": {
    "ExecuteTime": {
     "end_time": "2024-12-09T04:44:08.046930Z",
     "start_time": "2024-12-09T04:43:19.989496Z"
    }
   },
   "source": [
    "df = pd.read_parquet('Jane Street Market Data Forecasting/train.parquet')\n",
    "df.info() "
   ],
   "outputs": [
    {
     "name": "stdout",
     "output_type": "stream",
     "text": [
      "<class 'pandas.core.frame.DataFrame'>\n",
      "RangeIndex: 47127338 entries, 0 to 47127337\n",
      "Data columns (total 93 columns):\n",
      " #   Column        Dtype   \n",
      "---  ------        -----   \n",
      " 0   date_id       int16   \n",
      " 1   time_id       int16   \n",
      " 2   symbol_id     int8    \n",
      " 3   weight        float32 \n",
      " 4   feature_00    float32 \n",
      " 5   feature_01    float32 \n",
      " 6   feature_02    float32 \n",
      " 7   feature_03    float32 \n",
      " 8   feature_04    float32 \n",
      " 9   feature_05    float32 \n",
      " 10  feature_06    float32 \n",
      " 11  feature_07    float32 \n",
      " 12  feature_08    float32 \n",
      " 13  feature_09    int8    \n",
      " 14  feature_10    int8    \n",
      " 15  feature_11    int16   \n",
      " 16  feature_12    float32 \n",
      " 17  feature_13    float32 \n",
      " 18  feature_14    float32 \n",
      " 19  feature_15    float32 \n",
      " 20  feature_16    float32 \n",
      " 21  feature_17    float32 \n",
      " 22  feature_18    float32 \n",
      " 23  feature_19    float32 \n",
      " 24  feature_20    float32 \n",
      " 25  feature_21    float32 \n",
      " 26  feature_22    float32 \n",
      " 27  feature_23    float32 \n",
      " 28  feature_24    float32 \n",
      " 29  feature_25    float32 \n",
      " 30  feature_26    float32 \n",
      " 31  feature_27    float32 \n",
      " 32  feature_28    float32 \n",
      " 33  feature_29    float32 \n",
      " 34  feature_30    float32 \n",
      " 35  feature_31    float32 \n",
      " 36  feature_32    float32 \n",
      " 37  feature_33    float32 \n",
      " 38  feature_34    float32 \n",
      " 39  feature_35    float32 \n",
      " 40  feature_36    float32 \n",
      " 41  feature_37    float32 \n",
      " 42  feature_38    float32 \n",
      " 43  feature_39    float32 \n",
      " 44  feature_40    float32 \n",
      " 45  feature_41    float32 \n",
      " 46  feature_42    float32 \n",
      " 47  feature_43    float32 \n",
      " 48  feature_44    float32 \n",
      " 49  feature_45    float32 \n",
      " 50  feature_46    float32 \n",
      " 51  feature_47    float32 \n",
      " 52  feature_48    float32 \n",
      " 53  feature_49    float32 \n",
      " 54  feature_50    float32 \n",
      " 55  feature_51    float32 \n",
      " 56  feature_52    float32 \n",
      " 57  feature_53    float32 \n",
      " 58  feature_54    float32 \n",
      " 59  feature_55    float32 \n",
      " 60  feature_56    float32 \n",
      " 61  feature_57    float32 \n",
      " 62  feature_58    float32 \n",
      " 63  feature_59    float32 \n",
      " 64  feature_60    float32 \n",
      " 65  feature_61    float32 \n",
      " 66  feature_62    float32 \n",
      " 67  feature_63    float32 \n",
      " 68  feature_64    float32 \n",
      " 69  feature_65    float32 \n",
      " 70  feature_66    float32 \n",
      " 71  feature_67    float32 \n",
      " 72  feature_68    float32 \n",
      " 73  feature_69    float32 \n",
      " 74  feature_70    float32 \n",
      " 75  feature_71    float32 \n",
      " 76  feature_72    float32 \n",
      " 77  feature_73    float32 \n",
      " 78  feature_74    float32 \n",
      " 79  feature_75    float32 \n",
      " 80  feature_76    float32 \n",
      " 81  feature_77    float32 \n",
      " 82  feature_78    float32 \n",
      " 83  responder_0   float32 \n",
      " 84  responder_1   float32 \n",
      " 85  responder_2   float32 \n",
      " 86  responder_3   float32 \n",
      " 87  responder_4   float32 \n",
      " 88  responder_5   float32 \n",
      " 89  responder_6   float32 \n",
      " 90  responder_7   float32 \n",
      " 91  responder_8   float32 \n",
      " 92  partition_id  category\n",
      "dtypes: category(1), float32(86), int16(3), int8(3)\n",
      "memory usage: 15.5 GB\n"
     ]
    }
   ],
   "execution_count": 10
  },
  {
   "cell_type": "code",
   "metadata": {
    "ExecuteTime": {
     "end_time": "2024-12-09T04:44:26.564338Z",
     "start_time": "2024-12-09T04:44:26.551278Z"
    }
   },
   "source": [
    "def reduce_mem_usage(self, float16_as32=True):\n",
    "    # memory_usage() calculates the memory usage of the dataframe; sum computes the total.\n",
    "    start_mem = df.memory_usage().sum() / 1024**2\n",
    "    print(\"Memory usage of dataframe is: {:.2f} MB\".format(start_mem))\n",
    "\n",
    "    for col in df.columns:  # Iterate through column names\n",
    "        col_type = df[col].dtype  # Get the data type of the column\n",
    "\n",
    "        if col_type != object and str(col_type) != \"category\":  # Skip if the column is of object type\n",
    "            c_min, c_max = df[col].min(), df[col].max()  # Get the min and max values of the column\n",
    "\n",
    "            # If the column is an integer type\n",
    "            if str(col_type)[:3] == \"int\":\n",
    "                if c_min > np.iinfo(np.int8).min and c_max < np.iinfo(np.int8).max:\n",
    "                    df[col] = df[col].astype(np.int8)\n",
    "                elif c_min > np.iinfo(np.int16).min and c_max < np.iinfo(np.int16).max:\n",
    "                    df[col] = df[col].astype(np.int16)\n",
    "                elif c_min > np.iinfo(np.int32).min and c_max < np.iinfo(np.int32).max:\n",
    "                    df[col] = df[col].astype(np.int32)\n",
    "                elif c_min > np.iinfo(np.int64).min and c_max < np.iinfo(np.int64).max:\n",
    "                    df[col] = df[col].astype(np.int64)\n",
    "\n",
    "            # If the column is a floating-point type\n",
    "            else:\n",
    "                if c_min > np.finfo(np.float16).min and c_max < np.finfo(np.float16).max:\n",
    "                    if float16_as32:  # If high precision is needed, use float32\n",
    "                        df[col] = df[col].astype(np.float32)\n",
    "                    else:\n",
    "                        df[col] = df[col].astype(np.float16)\n",
    "                elif c_min > np.finfo(np.float32).min and c_max < np.finfo(np.float32).max:\n",
    "                    df[col] = df[col].astype(np.float32)\n",
    "                else:\n",
    "                    df[col] = df[col].astype(np.float64)\n",
    "\n",
    "    end_mem = df.memory_usage().sum() / 1024**2\n",
    "    print(\"Memory usage after optimization is: {:.2f} MB\".format(end_mem))\n",
    "    print(\"Decreased by {:.1f}%\".format(100 * (start_mem - end_mem) / start_mem))\n",
    "\n",
    "    return df\n"
   ],
   "outputs": [],
   "execution_count": 11
  },
  {
   "cell_type": "code",
   "metadata": {
    "ExecuteTime": {
     "end_time": "2024-12-09T04:46:24.639440Z",
     "start_time": "2024-12-09T04:45:09.637286Z"
    }
   },
   "source": [
    "train_data = reduce_mem_usage(df, False)"
   ],
   "outputs": [
    {
     "name": "stdout",
     "output_type": "stream",
     "text": [
      "Memory usage of dataframe is: 15910.22 MB\n",
      "Memory usage after optimization is: 8179.83 MB\n",
      "Decreased by 48.6%\n"
     ]
    }
   ],
   "execution_count": 14
  }
 ],
 "metadata": {
  "kernelspec": {
   "display_name": "jane-street",
   "language": "python",
   "name": "python3"
  },
  "language_info": {
   "codemirror_mode": {
    "name": "ipython",
    "version": 3
   },
   "file_extension": ".py",
   "mimetype": "text/x-python",
   "name": "python",
   "nbconvert_exporter": "python",
   "pygments_lexer": "ipython3",
   "version": "3.11.9"
  }
 },
 "nbformat": 4,
 "nbformat_minor": 2
}
